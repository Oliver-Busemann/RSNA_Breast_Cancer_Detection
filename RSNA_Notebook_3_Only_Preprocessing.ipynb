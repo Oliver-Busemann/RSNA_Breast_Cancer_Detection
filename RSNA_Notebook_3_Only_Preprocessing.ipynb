{
 "cells": [
  {
   "cell_type": "code",
   "execution_count": 7,
   "id": "57896533",
   "metadata": {},
   "outputs": [],
   "source": [
    "import os\n",
    "import cv2\n",
    "import pickle\n",
    "import pydicom\n",
    "import numpy as np\n",
    "import pandas as pd\n",
    "import torch\n",
    "from tqdm.notebook import tqdm"
   ]
  },
  {
   "cell_type": "code",
   "execution_count": 3,
   "id": "80739ac9",
   "metadata": {},
   "outputs": [],
   "source": [
    "train_folder = 'train_images'"
   ]
  },
  {
   "cell_type": "code",
   "execution_count": 4,
   "id": "94ca8297",
   "metadata": {},
   "outputs": [],
   "source": [
    "'''This method creates the preprocessed images. They are saved with pickle to a separate folder.\n",
    "   The names include the patient_id as well as the image_id. This way they can be loaded with these 2 values.'''\n",
    "\n",
    "def create_preprcessed_images(folder):\n",
    "    patients = os.listdir(folder)  # all patient folders with the scans\n",
    "    \n",
    "    folder_preprocessed_scans = 'Preprocessed_Scans'\n",
    "    \n",
    "    if not os.path.exists(folder_preprocessed_scans):\n",
    "        os.mkdir(folder_preprocessed_scans)\n",
    "        \n",
    "        # only do it once (if folder didn't exist before)\n",
    "        for patient_id in tqdm(patients):  # loop over all patient_ids (train folders)\n",
    "\n",
    "            path_to_patient = os.path.join(folder, patient_id)\n",
    "\n",
    "            for image_id in os.listdir(path_to_patient):  # loop over all scans (image_ids)\n",
    "\n",
    "                full_path = os.path.join(path_to_patient, image_id)\n",
    "\n",
    "                img = pydicom.dcmread(full_path).pixel_array  # load the scan\n",
    "\n",
    "                img = (img - img.min()) / (img.max() - img.min())  # normalize values (0-1)\n",
    "\n",
    "                img = cv2.resize(img, (512, 512))  # correct shape\n",
    "\n",
    "                img_tensor = torch.tensor(img).type(torch.float32)  # tensor as float32\n",
    "\n",
    "                img_tensor = torch.unsqueeze(img_tensor, 0)  # add color channel dim as first dim\n",
    "                \n",
    "                # should be done later for less disk usage\n",
    "                #img_tensor = img_tensor.repeat(3, 1, 1)  # repeat it 3 times\n",
    "\n",
    "                image_id = image_id.split('.')[0]  # get the image_id without the .dcm ending\n",
    "\n",
    "                new_name = f'{patient_id}_{image_id}.pickle'  # new name\n",
    "\n",
    "                new_name_path = os.path.join(folder_preprocessed_scans, new_name)\n",
    "\n",
    "                with open(new_name_path, \"wb\") as f:\n",
    "                    pickle.dump(img_tensor, f)  # save it"
   ]
  },
  {
   "cell_type": "code",
   "execution_count": 5,
   "id": "43d6a172",
   "metadata": {},
   "outputs": [
    {
     "data": {
      "application/vnd.jupyter.widget-view+json": {
       "model_id": "32aba8b7d8b64695b96795d459c61f3a",
       "version_major": 2,
       "version_minor": 0
      },
      "text/plain": [
       "  0%|          | 0/11913 [00:00<?, ?it/s]"
      ]
     },
     "metadata": {},
     "output_type": "display_data"
    }
   ],
   "source": [
    "create_preprcessed_images(train_folder)"
   ]
  },
  {
   "cell_type": "code",
   "execution_count": 6,
   "id": "5f12862f",
   "metadata": {},
   "outputs": [],
   "source": [
    "train_metadata = 'train.csv'"
   ]
  },
  {
   "cell_type": "code",
   "execution_count": 8,
   "id": "59678cbb",
   "metadata": {},
   "outputs": [],
   "source": [
    "train_df = pd.read_csv(train_metadata)"
   ]
  },
  {
   "cell_type": "code",
   "execution_count": 9,
   "id": "c4b6678a",
   "metadata": {},
   "outputs": [
    {
     "data": {
      "text/plain": [
       "54706"
      ]
     },
     "execution_count": 9,
     "metadata": {},
     "output_type": "execute_result"
    }
   ],
   "source": [
    "len(train_df)"
   ]
  },
  {
   "cell_type": "code",
   "execution_count": 10,
   "id": "2c06de53",
   "metadata": {},
   "outputs": [
    {
     "name": "stdout",
     "output_type": "stream",
     "text": [
      "Same length of newly created tensors and all patient scans\n"
     ]
    }
   ],
   "source": [
    "if len(train_df) == len(os.listdir('Preprocessed_Scans')):\n",
    "    print('Same length of newly created tensors and all patient scans')"
   ]
  }
 ],
 "metadata": {
  "kernelspec": {
   "display_name": "Python 3 (ipykernel)",
   "language": "python",
   "name": "python3"
  },
  "language_info": {
   "codemirror_mode": {
    "name": "ipython",
    "version": 3
   },
   "file_extension": ".py",
   "mimetype": "text/x-python",
   "name": "python",
   "nbconvert_exporter": "python",
   "pygments_lexer": "ipython3",
   "version": "3.9.13"
  }
 },
 "nbformat": 4,
 "nbformat_minor": 5
}
