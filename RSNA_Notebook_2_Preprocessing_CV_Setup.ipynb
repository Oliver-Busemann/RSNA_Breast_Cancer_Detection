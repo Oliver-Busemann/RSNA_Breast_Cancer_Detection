{
 "cells": [
  {
   "cell_type": "code",
   "execution_count": 1,
   "id": "79e703f8",
   "metadata": {},
   "outputs": [],
   "source": [
    "%matplotlib inline\n",
    "import matplotlib.pyplot as plt\n",
    "import numpy as np\n",
    "import pandas as pd\n",
    "import os\n",
    "import pydicom\n",
    "from random import shuffle, seed\n",
    "import copy\n",
    "import cv2\n",
    "import torch\n",
    "import torch.nn as nn\n",
    "from torch.nn import Module\n",
    "import torch.nn.functional as F\n",
    "from torch.utils.data import DataLoader, Dataset\n",
    "from torch.optim import Adam\n",
    "from torch.nn import BCELoss\n",
    "from tqdm.notebook import tqdm\n",
    "from torchinfo import summary"
   ]
  },
  {
   "cell_type": "code",
   "execution_count": 2,
   "id": "6f48bad9",
   "metadata": {},
   "outputs": [
    {
     "name": "stderr",
     "output_type": "stream",
     "text": [
      "/home/olli/anaconda3/envs/torch/lib/python3.9/site-packages/torch/cuda/__init__.py:88: UserWarning: CUDA initialization: CUDA unknown error - this may be due to an incorrectly set up environment, e.g. changing env variable CUDA_VISIBLE_DEVICES after program start. Setting the available devices to be zero. (Triggered internally at /opt/conda/conda-bld/pytorch_1666643016022/work/c10/cuda/CUDAFunctions.cpp:109.)\n",
      "  return torch._C._cuda_getDeviceCount() > 0\n"
     ]
    },
    {
     "data": {
      "text/plain": [
       "'cpu'"
      ]
     },
     "execution_count": 2,
     "metadata": {},
     "output_type": "execute_result"
    }
   ],
   "source": [
    "device = 'cuda' if torch.cuda.is_available() else 'cpu'\n",
    "device"
   ]
  },
  {
   "cell_type": "code",
   "execution_count": 3,
   "id": "f541f5fe",
   "metadata": {},
   "outputs": [],
   "source": [
    "torch.manual_seed(42)\n",
    "seed(42)"
   ]
  },
  {
   "cell_type": "code",
   "execution_count": 4,
   "id": "5964ecad",
   "metadata": {},
   "outputs": [],
   "source": [
    "train_folder = 'train_images'\n",
    "test_folder = 'test_images'"
   ]
  },
  {
   "cell_type": "code",
   "execution_count": 5,
   "id": "a9a8586c",
   "metadata": {},
   "outputs": [],
   "source": [
    "train_metadata = 'train.csv'\n",
    "test_metadata = 'test.csv'"
   ]
  },
  {
   "cell_type": "code",
   "execution_count": 6,
   "id": "ee6af1a3",
   "metadata": {},
   "outputs": [],
   "source": [
    "train_df = pd.read_csv(train_metadata)\n",
    "test_df = pd.read_csv(test_metadata)"
   ]
  },
  {
   "cell_type": "code",
   "execution_count": 7,
   "id": "78ad85a3",
   "metadata": {},
   "outputs": [
    {
     "data": {
      "text/html": [
       "<div>\n",
       "<style scoped>\n",
       "    .dataframe tbody tr th:only-of-type {\n",
       "        vertical-align: middle;\n",
       "    }\n",
       "\n",
       "    .dataframe tbody tr th {\n",
       "        vertical-align: top;\n",
       "    }\n",
       "\n",
       "    .dataframe thead th {\n",
       "        text-align: right;\n",
       "    }\n",
       "</style>\n",
       "<table border=\"1\" class=\"dataframe\">\n",
       "  <thead>\n",
       "    <tr style=\"text-align: right;\">\n",
       "      <th></th>\n",
       "      <th>site_id</th>\n",
       "      <th>patient_id</th>\n",
       "      <th>image_id</th>\n",
       "      <th>laterality</th>\n",
       "      <th>view</th>\n",
       "      <th>age</th>\n",
       "      <th>cancer</th>\n",
       "      <th>biopsy</th>\n",
       "      <th>invasive</th>\n",
       "      <th>BIRADS</th>\n",
       "      <th>implant</th>\n",
       "      <th>density</th>\n",
       "      <th>machine_id</th>\n",
       "      <th>difficult_negative_case</th>\n",
       "    </tr>\n",
       "  </thead>\n",
       "  <tbody>\n",
       "    <tr>\n",
       "      <th>0</th>\n",
       "      <td>2</td>\n",
       "      <td>10006</td>\n",
       "      <td>462822612</td>\n",
       "      <td>L</td>\n",
       "      <td>CC</td>\n",
       "      <td>61.0</td>\n",
       "      <td>0</td>\n",
       "      <td>0</td>\n",
       "      <td>0</td>\n",
       "      <td>NaN</td>\n",
       "      <td>0</td>\n",
       "      <td>NaN</td>\n",
       "      <td>29</td>\n",
       "      <td>False</td>\n",
       "    </tr>\n",
       "    <tr>\n",
       "      <th>1</th>\n",
       "      <td>2</td>\n",
       "      <td>10006</td>\n",
       "      <td>1459541791</td>\n",
       "      <td>L</td>\n",
       "      <td>MLO</td>\n",
       "      <td>61.0</td>\n",
       "      <td>0</td>\n",
       "      <td>0</td>\n",
       "      <td>0</td>\n",
       "      <td>NaN</td>\n",
       "      <td>0</td>\n",
       "      <td>NaN</td>\n",
       "      <td>29</td>\n",
       "      <td>False</td>\n",
       "    </tr>\n",
       "    <tr>\n",
       "      <th>2</th>\n",
       "      <td>2</td>\n",
       "      <td>10006</td>\n",
       "      <td>1864590858</td>\n",
       "      <td>R</td>\n",
       "      <td>MLO</td>\n",
       "      <td>61.0</td>\n",
       "      <td>0</td>\n",
       "      <td>0</td>\n",
       "      <td>0</td>\n",
       "      <td>NaN</td>\n",
       "      <td>0</td>\n",
       "      <td>NaN</td>\n",
       "      <td>29</td>\n",
       "      <td>False</td>\n",
       "    </tr>\n",
       "    <tr>\n",
       "      <th>3</th>\n",
       "      <td>2</td>\n",
       "      <td>10006</td>\n",
       "      <td>1874946579</td>\n",
       "      <td>R</td>\n",
       "      <td>CC</td>\n",
       "      <td>61.0</td>\n",
       "      <td>0</td>\n",
       "      <td>0</td>\n",
       "      <td>0</td>\n",
       "      <td>NaN</td>\n",
       "      <td>0</td>\n",
       "      <td>NaN</td>\n",
       "      <td>29</td>\n",
       "      <td>False</td>\n",
       "    </tr>\n",
       "    <tr>\n",
       "      <th>4</th>\n",
       "      <td>2</td>\n",
       "      <td>10011</td>\n",
       "      <td>220375232</td>\n",
       "      <td>L</td>\n",
       "      <td>CC</td>\n",
       "      <td>55.0</td>\n",
       "      <td>0</td>\n",
       "      <td>0</td>\n",
       "      <td>0</td>\n",
       "      <td>0.0</td>\n",
       "      <td>0</td>\n",
       "      <td>NaN</td>\n",
       "      <td>21</td>\n",
       "      <td>True</td>\n",
       "    </tr>\n",
       "  </tbody>\n",
       "</table>\n",
       "</div>"
      ],
      "text/plain": [
       "   site_id  patient_id    image_id laterality view   age  cancer  biopsy  \\\n",
       "0        2       10006   462822612          L   CC  61.0       0       0   \n",
       "1        2       10006  1459541791          L  MLO  61.0       0       0   \n",
       "2        2       10006  1864590858          R  MLO  61.0       0       0   \n",
       "3        2       10006  1874946579          R   CC  61.0       0       0   \n",
       "4        2       10011   220375232          L   CC  55.0       0       0   \n",
       "\n",
       "   invasive  BIRADS  implant density  machine_id  difficult_negative_case  \n",
       "0         0     NaN        0     NaN          29                    False  \n",
       "1         0     NaN        0     NaN          29                    False  \n",
       "2         0     NaN        0     NaN          29                    False  \n",
       "3         0     NaN        0     NaN          29                    False  \n",
       "4         0     0.0        0     NaN          21                     True  "
      ]
     },
     "execution_count": 7,
     "metadata": {},
     "output_type": "execute_result"
    }
   ],
   "source": [
    "train_df.head()"
   ]
  },
  {
   "cell_type": "code",
   "execution_count": 8,
   "id": "f699eb2f",
   "metadata": {},
   "outputs": [],
   "source": [
    "train_folders = os.listdir(train_folder)"
   ]
  },
  {
   "cell_type": "code",
   "execution_count": 9,
   "id": "77d0a8a0",
   "metadata": {},
   "outputs": [
    {
     "data": {
      "text/plain": [
       "['33624', '64153', '65117', '19605', '40910']"
      ]
     },
     "execution_count": 9,
     "metadata": {},
     "output_type": "execute_result"
    }
   ],
   "source": [
    "train_folders[:5]"
   ]
  },
  {
   "cell_type": "code",
   "execution_count": 10,
   "id": "327c09c8",
   "metadata": {},
   "outputs": [
    {
     "data": {
      "text/html": [
       "<div>\n",
       "<style scoped>\n",
       "    .dataframe tbody tr th:only-of-type {\n",
       "        vertical-align: middle;\n",
       "    }\n",
       "\n",
       "    .dataframe tbody tr th {\n",
       "        vertical-align: top;\n",
       "    }\n",
       "\n",
       "    .dataframe thead th {\n",
       "        text-align: right;\n",
       "    }\n",
       "</style>\n",
       "<table border=\"1\" class=\"dataframe\">\n",
       "  <thead>\n",
       "    <tr style=\"text-align: right;\">\n",
       "      <th></th>\n",
       "      <th>site_id</th>\n",
       "      <th>patient_id</th>\n",
       "      <th>image_id</th>\n",
       "      <th>laterality</th>\n",
       "      <th>view</th>\n",
       "      <th>age</th>\n",
       "      <th>cancer</th>\n",
       "      <th>biopsy</th>\n",
       "      <th>invasive</th>\n",
       "      <th>BIRADS</th>\n",
       "      <th>implant</th>\n",
       "      <th>density</th>\n",
       "      <th>machine_id</th>\n",
       "      <th>difficult_negative_case</th>\n",
       "    </tr>\n",
       "  </thead>\n",
       "  <tbody>\n",
       "    <tr>\n",
       "      <th>22215</th>\n",
       "      <td>1</td>\n",
       "      <td>33624</td>\n",
       "      <td>1111416410</td>\n",
       "      <td>L</td>\n",
       "      <td>MLO</td>\n",
       "      <td>56.0</td>\n",
       "      <td>0</td>\n",
       "      <td>0</td>\n",
       "      <td>0</td>\n",
       "      <td>NaN</td>\n",
       "      <td>0</td>\n",
       "      <td>B</td>\n",
       "      <td>49</td>\n",
       "      <td>False</td>\n",
       "    </tr>\n",
       "    <tr>\n",
       "      <th>22216</th>\n",
       "      <td>1</td>\n",
       "      <td>33624</td>\n",
       "      <td>1462078398</td>\n",
       "      <td>L</td>\n",
       "      <td>CC</td>\n",
       "      <td>56.0</td>\n",
       "      <td>0</td>\n",
       "      <td>0</td>\n",
       "      <td>0</td>\n",
       "      <td>NaN</td>\n",
       "      <td>0</td>\n",
       "      <td>B</td>\n",
       "      <td>49</td>\n",
       "      <td>False</td>\n",
       "    </tr>\n",
       "    <tr>\n",
       "      <th>22217</th>\n",
       "      <td>1</td>\n",
       "      <td>33624</td>\n",
       "      <td>788897862</td>\n",
       "      <td>R</td>\n",
       "      <td>CC</td>\n",
       "      <td>56.0</td>\n",
       "      <td>0</td>\n",
       "      <td>1</td>\n",
       "      <td>0</td>\n",
       "      <td>0.0</td>\n",
       "      <td>0</td>\n",
       "      <td>B</td>\n",
       "      <td>49</td>\n",
       "      <td>True</td>\n",
       "    </tr>\n",
       "    <tr>\n",
       "      <th>22218</th>\n",
       "      <td>1</td>\n",
       "      <td>33624</td>\n",
       "      <td>1362210397</td>\n",
       "      <td>R</td>\n",
       "      <td>MLO</td>\n",
       "      <td>56.0</td>\n",
       "      <td>0</td>\n",
       "      <td>1</td>\n",
       "      <td>0</td>\n",
       "      <td>0.0</td>\n",
       "      <td>0</td>\n",
       "      <td>B</td>\n",
       "      <td>49</td>\n",
       "      <td>True</td>\n",
       "    </tr>\n",
       "  </tbody>\n",
       "</table>\n",
       "</div>"
      ],
      "text/plain": [
       "       site_id  patient_id    image_id laterality view   age  cancer  biopsy  \\\n",
       "22215        1       33624  1111416410          L  MLO  56.0       0       0   \n",
       "22216        1       33624  1462078398          L   CC  56.0       0       0   \n",
       "22217        1       33624   788897862          R   CC  56.0       0       1   \n",
       "22218        1       33624  1362210397          R  MLO  56.0       0       1   \n",
       "\n",
       "       invasive  BIRADS  implant density  machine_id  difficult_negative_case  \n",
       "22215         0     NaN        0       B          49                    False  \n",
       "22216         0     NaN        0       B          49                    False  \n",
       "22217         0     0.0        0       B          49                     True  \n",
       "22218         0     0.0        0       B          49                     True  "
      ]
     },
     "execution_count": 10,
     "metadata": {},
     "output_type": "execute_result"
    }
   ],
   "source": [
    "train_df[train_df.patient_id==33624]"
   ]
  },
  {
   "cell_type": "code",
   "execution_count": 11,
   "id": "257a5e0f",
   "metadata": {},
   "outputs": [
    {
     "data": {
      "text/plain": [
       "True"
      ]
     },
     "execution_count": 11,
     "metadata": {},
     "output_type": "execute_result"
    }
   ],
   "source": [
    "len(train_df['image_id'].value_counts()) == len(train_df)"
   ]
  },
  {
   "cell_type": "markdown",
   "id": "c77b767d",
   "metadata": {},
   "source": [
    "Each image_id is unique so they can be used for assigning the scans to each fold"
   ]
  },
  {
   "cell_type": "markdown",
   "id": "82fe95ca",
   "metadata": {},
   "source": [
    "# Getting the CV-Setup done"
   ]
  },
  {
   "cell_type": "markdown",
   "id": "497d0fd2",
   "metadata": {},
   "source": [
    "The Training data will be split into 5 folds where each fold should contain roughtly the same number of cancer cases"
   ]
  },
  {
   "cell_type": "markdown",
   "id": "435b4212",
   "metadata": {},
   "source": [
    "For each patient the left and right breast can probably be placed in a different fold without causing any data leakage"
   ]
  },
  {
   "cell_type": "markdown",
   "id": "27248163",
   "metadata": {},
   "source": [
    "The patient_id equals the folder in train_images and the image_id equals the scan inside the folder"
   ]
  },
  {
   "cell_type": "code",
   "execution_count": 12,
   "id": "0c137cd3",
   "metadata": {},
   "outputs": [],
   "source": [
    "# this function returns the image_ids for five folds with balanced cancer to non-cancer cases\n",
    "\n",
    "def get_folds_with_image_ids(DF):\n",
    "    \n",
    "    df = DF.copy()\n",
    "    \n",
    "    patient_ids = list(train_df['patient_id'].unique())  # all unique patient_ids\n",
    "    shuffle(patient_ids)\n",
    "    \n",
    "    # foldes to hold the image ids\n",
    "    cancer_fold_1, cancer_fold_2, cancer_fold_3, cancer_fold_4, cancer_fold_5 = [], [], [], [], []\n",
    "    no_cancer_fold_1, no_cancer_fold_2, no_cancer_fold_3, no_cancer_fold_4, no_cancer_fold_5 = [], [], [], [], []\n",
    "    \n",
    "    # list of folders\n",
    "    cancer_folders = [cancer_fold_1, cancer_fold_2, cancer_fold_3, cancer_fold_4, cancer_fold_5]\n",
    "    no_cancer_folders = [no_cancer_fold_1, no_cancer_fold_2, no_cancer_fold_3, no_cancer_fold_4, no_cancer_fold_5]\n",
    "    \n",
    "    # loop over all patient ids and assign them to a fold (each patient + side must be in a single fold)\n",
    "    for ID in tqdm(patient_ids):\n",
    "        for side in ['L', 'R']:\n",
    "            filt = (df['patient_id'] == ID) & (df['laterality'] == side)  # boolean df as filter\n",
    "            \n",
    "            # df only with the current patient id & one breast\n",
    "            current_df = df[filt]\n",
    "            \n",
    "            # image ids which should be assigned to one fold\n",
    "            values_to_assign = current_df['image_id'].values\n",
    "            \n",
    "            # array of cancer values from the selected df\n",
    "            cancer_value = current_df['cancer'].unique()\n",
    "            \n",
    "            # should only contain one value!\n",
    "            if len(cancer_value) > 1:\n",
    "                print('\\n\\n\\nERROR: GOT DIFFERENT CANCER VALUES!\\n\\n\\n')\n",
    "            else:\n",
    "                cancer_value = cancer_value[0]\n",
    "            \n",
    "            # the image ids should be assigned to the folder with the least values\n",
    "            \n",
    "            if cancer_value == 0:  # add it to one of no cancer folders...\n",
    "                len_folders = [len(folder) for folder in no_cancer_folders]\n",
    "                folder = np.array(len_folders).argmin()  # ...to the one with the least values in it\n",
    "                for image_id in values_to_assign:\n",
    "                    no_cancer_folders[folder].append(image_id)\n",
    "                    \n",
    "            # same with cancer_values\n",
    "            elif cancer_value == 1:\n",
    "                len_folders = [len(folder) for folder in cancer_folders]\n",
    "                folder = np.array(len_folders).argmin()  # the one with the least values\n",
    "                for image_id in values_to_assign:\n",
    "                    cancer_folders[folder].append(image_id)\n",
    "            \n",
    "    # check if the folders are balanced\n",
    "    len_cancer_folders = [len(folder) for folder in cancer_folders]\n",
    "    len_no_cancer_folders = [len(folder) for folder in no_cancer_folders]\n",
    "    print(f'Length of cancer folders: {len_cancer_folders}')\n",
    "    print(f'Length of non cancer folders: {len_no_cancer_folders}\\n')\n",
    "\n",
    "    # check if the values got assigned correct\n",
    "    counted_cancer_cases = sum([len(folder) for folder in cancer_folders])\n",
    "    number_cancer_cases = len(df[df['cancer'] == 1])\n",
    "    print(f'Number of cancer cases in total: {number_cancer_cases}')\n",
    "    print(f'Number of cancer cases in cancer folders: {counted_cancer_cases}\\n')\n",
    "\n",
    "    counted_no_cancer_cases = sum([len(folder) for folder in no_cancer_folders])\n",
    "    number_no_cancer_cases = len(df[df['cancer'] == 0])\n",
    "    print(f'Number of non cancer cases in total: {number_no_cancer_cases}')\n",
    "    print(f'Number of non cancer cases in non cancer folders: {counted_no_cancer_cases}\\n')\n",
    "\n",
    "    # add them up to five folds & shuffle them again\n",
    "    fold_1, fold_2, fold_3, fold_4, fold_5 = [cancer + no_cancer for cancer, no_cancer in\n",
    "                                              zip(cancer_folders, no_cancer_folders)]\n",
    "    [shuffle(fold) for fold in [fold_1, fold_2, fold_3, fold_4, fold_5]]\n",
    "\n",
    "    # print final length\n",
    "    print(f'Final Length of Folds: {[len(fold) for fold in [fold_1, fold_2, fold_3, fold_4, fold_5]]}')\n",
    "            \n",
    "    return fold_1, fold_2, fold_3, fold_4, fold_5"
   ]
  },
  {
   "cell_type": "code",
   "execution_count": 13,
   "id": "8fa55f3a",
   "metadata": {
    "scrolled": false
   },
   "outputs": [
    {
     "data": {
      "application/vnd.jupyter.widget-view+json": {
       "model_id": "1119d533847546449f045793cc3f938b",
       "version_major": 2,
       "version_minor": 0
      },
      "text/plain": [
       "  0%|          | 0/11913 [00:00<?, ?it/s]"
      ]
     },
     "metadata": {},
     "output_type": "display_data"
    },
    {
     "name": "stdout",
     "output_type": "stream",
     "text": [
      "Length of cancer folders: [234, 232, 230, 232, 230]\n",
      "Length of non cancer folders: [10711, 10709, 10709, 10710, 10709]\n",
      "\n",
      "Number of cancer cases in total: 1158\n",
      "Number of cancer cases in cancer folders: 1158\n",
      "\n",
      "Number of non cancer cases in total: 53548\n",
      "Number of non cancer cases in non cancer folders: 53548\n",
      "\n",
      "Final Length of Folds: [10945, 10941, 10939, 10942, 10939]\n",
      "CPU times: user 51.7 s, sys: 83 ms, total: 51.8 s\n",
      "Wall time: 51.7 s\n"
     ]
    }
   ],
   "source": [
    "%%time\n",
    "fold_1, fold_2, fold_3, fold_4, fold_5 = get_folds_with_image_ids(train_df)"
   ]
  },
  {
   "cell_type": "markdown",
   "id": "f602b9a2",
   "metadata": {},
   "source": [
    "# Create the Datasets and Dataloaders"
   ]
  },
  {
   "cell_type": "code",
   "execution_count": 17,
   "id": "641817cc",
   "metadata": {},
   "outputs": [],
   "source": [
    "class Data(Dataset):\n",
    "    \n",
    "    # later gets initialized with one or four folds (cross-validation)\n",
    "    def __init__(self, fold, DF):\n",
    "        self.df = DF.copy()\n",
    "        \n",
    "        self.image_ids = copy.deepcopy(fold)  # dont shuffle original\n",
    "        shuffle(self.image_ids)  # shuffle new image ids\n",
    "        \n",
    "        self.df_filtered = self.df[self.df['image_id'].isin(self.image_ids)]  # needs the same length for below\n",
    "        \n",
    "        # Problem: The new dataframe should be sorted with the new image_ids to get the correct other values\n",
    "        self.df_sorted = self.df_filtered.iloc[np.argsort([self.image_ids.index(i) for i in \n",
    "                                                           self.df_filtered['image_id']])]\n",
    "        \n",
    "        # get the cancer value for each image id\n",
    "        self.targets = list(self.df_sorted['cancer'].values)\n",
    "        \n",
    "        # also get the corresponding patient_ids for correct assignment below\n",
    "        self.patient_ids = list(self.df_sorted['patient_id'].values)\n",
    "                                              \n",
    "        self.n_samples = len(self.image_ids)\n",
    "        \n",
    "    def __len__(self):\n",
    "        return self.n_samples\n",
    "    \n",
    "    def __getitem__(self, index):\n",
    "        \n",
    "        # get the full path to the image_id of index...\n",
    "        folder = train_folder\n",
    "        patient_id = str(self.patient_ids[index])\n",
    "        image_id = str(self.image_ids[index]) + '.dcm'  # each image_id is a .dcm file\n",
    "        path_img = os.path.join(folder, patient_id, image_id)  # path to each image id\n",
    "        \n",
    "        img = pydicom.dcmread(path_img).pixel_array  # img as np.array\n",
    "        \n",
    "        # normalize it (values might be greater then 255 or less then 0)\n",
    "        img = (img - img.min()) / (img.max() - img.min())\n",
    "        \n",
    "        img = cv2.resize(img, (512, 512))  # try 512 resolution first\n",
    "        \n",
    "        img_tensor = torch.tensor(img).type(torch.float32)\n",
    "        \n",
    "        img_tensor = torch.unsqueeze(img_tensor, 0)  # add rgb dim in shape index 0\n",
    "        \n",
    "        # to feed the grayscaled tensor into a pretrained rgb-model repeat the tensor 3 times in dim 0\n",
    "        X = img_tensor.repeat(3, 1, 1)\n",
    "        \n",
    "        y = torch.tensor(self.targets[index])\n",
    "        \n",
    "        print(f'Patient_ID: {patient_id}; Image_ID: {image_id}; Cancer: {y}')\n",
    "        \n",
    "        return X.to(device), y.to(device)"
   ]
  },
  {
   "cell_type": "code",
   "execution_count": 18,
   "id": "cc830652",
   "metadata": {},
   "outputs": [],
   "source": [
    "exp = Data(fold_1, train_df)"
   ]
  }
 ],
 "metadata": {
  "kernelspec": {
   "display_name": "torch",
   "language": "python",
   "name": "torch"
  },
  "language_info": {
   "codemirror_mode": {
    "name": "ipython",
    "version": 3
   },
   "file_extension": ".py",
   "mimetype": "text/x-python",
   "name": "python",
   "nbconvert_exporter": "python",
   "pygments_lexer": "ipython3",
   "version": "3.9.13"
  }
 },
 "nbformat": 4,
 "nbformat_minor": 5
}
